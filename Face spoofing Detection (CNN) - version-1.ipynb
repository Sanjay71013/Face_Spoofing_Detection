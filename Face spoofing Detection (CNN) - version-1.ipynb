{
 "cells": [
  {
   "cell_type": "markdown",
   "id": "debb017a",
   "metadata": {},
   "source": [
    "# <center>Face spoofing Detection (CNN) </center>"
   ]
  },
  {
   "cell_type": "markdown",
   "id": "63920a79",
   "metadata": {},
   "source": [
    "Face spoofing detection systems are used to secure biometric authentication systems. The proposed solution uses <b>CNN</b>, a Deep learning Network to find whether the face is spoofed or not.\n",
    "<img src=\"./Resources/facespoof.png\">"
   ]
  },
  {
   "cell_type": "markdown",
   "id": "9c9976d5",
   "metadata": {},
   "source": [
    "## Image Argumentation"
   ]
  },
  {
   "cell_type": "markdown",
   "id": "87a16474",
   "metadata": {},
   "source": [
    "Here we are loading the dataset using <b>ImageDataGenerator.flow_from_directory</b> function. Our dataset is not that big. It contains the follwing images:\n",
    "    \n",
    "    train images = 961 images in total (contains 2 classes)\n",
    "        Face_Images = 299 images\n",
    "        Mobile_Images = 662 images\n",
    "    \n",
    "    test images = 396 images in total (contains 2 classes)\n",
    "        Face_Images = 120 images\n",
    "        Mobile_Images = 276 images\n",
    "        \n",
    "        \n",
    "By the dataset we can say that our dataset is not that balanced. But this was the dataset that was available. But our Model is still predicting well after conducting tests."
   ]
  },
  {
   "cell_type": "code",
   "execution_count": 1,
   "id": "85fcfb26",
   "metadata": {},
   "outputs": [],
   "source": [
    "from tensorflow.keras.preprocessing.image import ImageDataGenerator"
   ]
  },
  {
   "cell_type": "code",
   "execution_count": 2,
   "id": "fa2498cc",
   "metadata": {},
   "outputs": [],
   "source": [
    "train_datagen = ImageDataGenerator(rescale=1/255, zoom_range=0.2, horizontal_flip=True, vertical_flip=False)"
   ]
  },
  {
   "cell_type": "code",
   "execution_count": 3,
   "id": "15f3a64f",
   "metadata": {},
   "outputs": [],
   "source": [
    "test_datagen = ImageDataGenerator(rescale=1/255)"
   ]
  },
  {
   "cell_type": "code",
   "execution_count": 4,
   "id": "0fc7d0a4",
   "metadata": {},
   "outputs": [
    {
     "name": "stdout",
     "output_type": "stream",
     "text": [
      "Found 961 images belonging to 2 classes.\n"
     ]
    }
   ],
   "source": [
    "x_train = train_datagen.flow_from_directory('./data/data_train', target_size=(100,100), color_mode='grayscale',\n",
    "                                           class_mode='categorical', batch_size=10)"
   ]
  },
  {
   "cell_type": "code",
   "execution_count": 5,
   "id": "5fbee492",
   "metadata": {
    "scrolled": true
   },
   "outputs": [
    {
     "data": {
      "text/plain": [
       "{'Face_Images': 0, 'Mobile_Images': 1}"
      ]
     },
     "execution_count": 5,
     "metadata": {},
     "output_type": "execute_result"
    }
   ],
   "source": [
    "x_train.class_indices"
   ]
  },
  {
   "cell_type": "code",
   "execution_count": 6,
   "id": "9ea778f5",
   "metadata": {},
   "outputs": [
    {
     "name": "stdout",
     "output_type": "stream",
     "text": [
      "Found 396 images belonging to 2 classes.\n"
     ]
    }
   ],
   "source": [
    "x_test = train_datagen.flow_from_directory('./data/data_test', target_size=(100,100), color_mode='grayscale',\n",
    "                                           class_mode='categorical', batch_size=10)"
   ]
  },
  {
   "cell_type": "code",
   "execution_count": 7,
   "id": "56c9a049",
   "metadata": {},
   "outputs": [
    {
     "data": {
      "text/plain": [
       "{'Face_Images': 0, 'Mobile_Images': 1}"
      ]
     },
     "execution_count": 7,
     "metadata": {},
     "output_type": "execute_result"
    }
   ],
   "source": [
    "x_test.class_indices"
   ]
  },
  {
   "cell_type": "code",
   "execution_count": 8,
   "id": "99e44e71",
   "metadata": {},
   "outputs": [
    {
     "data": {
      "text/plain": [
       "96"
      ]
     },
     "execution_count": 8,
     "metadata": {},
     "output_type": "execute_result"
    }
   ],
   "source": [
    "STEP_SIZE_TRAIN = x_train.n // x_train.batch_size\n",
    "STEP_SIZE_TRAIN"
   ]
  },
  {
   "cell_type": "code",
   "execution_count": 9,
   "id": "178164fb",
   "metadata": {},
   "outputs": [
    {
     "data": {
      "text/plain": [
       "39"
      ]
     },
     "execution_count": 9,
     "metadata": {},
     "output_type": "execute_result"
    }
   ],
   "source": [
    "STEP_SIZE_TEST = x_test.n // x_test.batch_size\n",
    "STEP_SIZE_TEST"
   ]
  },
  {
   "cell_type": "markdown",
   "id": "b9af1ed9",
   "metadata": {},
   "source": [
    "## Creating the Model"
   ]
  },
  {
   "cell_type": "markdown",
   "id": "69cf353e",
   "metadata": {},
   "source": [
    "We are going to create a CNN Model with the following <b>architecture</b> :\n",
    "\n",
    "    - Two Convolution Layer with Average Pooling and relu activation applied\n",
    "    - Then, Flattening to use it as the input to ANN\n",
    "    - First hidden Layer with 120 neurons and relu activation function applied\n",
    "    - Second hidden Layer with 84 neurons and relu activation function applied\n",
    "    - Output Layer with 2 output units as we have 2 classes and sigmoid activation function applied"
   ]
  },
  {
   "cell_type": "code",
   "execution_count": 10,
   "id": "16fa6d17",
   "metadata": {},
   "outputs": [],
   "source": [
    "from tensorflow.keras.models import Sequential\n",
    "from tensorflow.keras.layers import Convolution2D, AveragePooling2D, Flatten, Dense"
   ]
  },
  {
   "cell_type": "code",
   "execution_count": 11,
   "id": "33942cf5",
   "metadata": {},
   "outputs": [
    {
     "name": "stdout",
     "output_type": "stream",
     "text": [
      "Epoch 1/20\n"
     ]
    },
    {
     "name": "stderr",
     "output_type": "stream",
     "text": [
      "C:\\Users\\sanja\\AppData\\Local\\Temp/ipykernel_22120/1264919445.py:27: UserWarning: `Model.fit_generator` is deprecated and will be removed in a future version. Please use `Model.fit`, which supports generators.\n",
      "  model.fit_generator(generator=x_train,steps_per_epoch=STEP_SIZE_TRAIN, validation_data = x_test, validation_steps=STEP_SIZE_TEST,epochs=20)\n"
     ]
    },
    {
     "name": "stdout",
     "output_type": "stream",
     "text": [
      "96/96 [==============================] - 10s 100ms/step - loss: 0.6303 - accuracy: 0.7024 - val_loss: 0.5808 - val_accuracy: 0.7051\n",
      "Epoch 2/20\n",
      "96/96 [==============================] - 9s 99ms/step - loss: 0.4699 - accuracy: 0.7655 - val_loss: 0.3426 - val_accuracy: 0.8538\n",
      "Epoch 3/20\n",
      "96/96 [==============================] - 9s 98ms/step - loss: 0.2543 - accuracy: 0.9033 - val_loss: 0.3087 - val_accuracy: 0.8692\n",
      "Epoch 4/20\n",
      "96/96 [==============================] - 9s 96ms/step - loss: 0.1643 - accuracy: 0.9464 - val_loss: 0.2044 - val_accuracy: 0.9308\n",
      "Epoch 5/20\n",
      "96/96 [==============================] - 9s 96ms/step - loss: 0.1338 - accuracy: 0.9516 - val_loss: 0.1683 - val_accuracy: 0.9462\n",
      "Epoch 6/20\n",
      "96/96 [==============================] - 9s 98ms/step - loss: 0.1248 - accuracy: 0.9590 - val_loss: 0.2051 - val_accuracy: 0.9282\n",
      "Epoch 7/20\n",
      "96/96 [==============================] - 9s 97ms/step - loss: 0.1024 - accuracy: 0.9674 - val_loss: 0.2476 - val_accuracy: 0.9103\n",
      "Epoch 8/20\n",
      "96/96 [==============================] - 9s 98ms/step - loss: 0.0845 - accuracy: 0.9685 - val_loss: 0.1980 - val_accuracy: 0.9462\n",
      "Epoch 9/20\n",
      "96/96 [==============================] - 9s 97ms/step - loss: 0.0837 - accuracy: 0.9653 - val_loss: 0.1803 - val_accuracy: 0.9410\n",
      "Epoch 10/20\n",
      "96/96 [==============================] - 9s 97ms/step - loss: 0.0951 - accuracy: 0.9674 - val_loss: 0.1737 - val_accuracy: 0.9436\n",
      "Epoch 11/20\n",
      "96/96 [==============================] - 9s 97ms/step - loss: 0.0654 - accuracy: 0.9758 - val_loss: 0.1737 - val_accuracy: 0.9410\n",
      "Epoch 12/20\n",
      "96/96 [==============================] - 9s 97ms/step - loss: 0.0592 - accuracy: 0.9811 - val_loss: 0.1831 - val_accuracy: 0.9487\n",
      "Epoch 13/20\n",
      "96/96 [==============================] - 9s 97ms/step - loss: 0.0685 - accuracy: 0.9748 - val_loss: 0.1628 - val_accuracy: 0.9410\n",
      "Epoch 14/20\n",
      "96/96 [==============================] - 9s 97ms/step - loss: 0.0659 - accuracy: 0.9706 - val_loss: 0.1669 - val_accuracy: 0.9538\n",
      "Epoch 15/20\n",
      "96/96 [==============================] - 9s 98ms/step - loss: 0.0585 - accuracy: 0.9769 - val_loss: 0.1667 - val_accuracy: 0.9641\n",
      "Epoch 16/20\n",
      "96/96 [==============================] - 10s 99ms/step - loss: 0.0475 - accuracy: 0.9800 - val_loss: 0.1787 - val_accuracy: 0.9513\n",
      "Epoch 17/20\n",
      "96/96 [==============================] - 9s 97ms/step - loss: 0.0532 - accuracy: 0.9790 - val_loss: 0.2197 - val_accuracy: 0.9410\n",
      "Epoch 18/20\n",
      "96/96 [==============================] - 9s 98ms/step - loss: 0.0397 - accuracy: 0.9874 - val_loss: 0.1626 - val_accuracy: 0.9564\n",
      "Epoch 19/20\n",
      "96/96 [==============================] - 9s 97ms/step - loss: 0.0433 - accuracy: 0.9842 - val_loss: 0.1599 - val_accuracy: 0.9590\n",
      "Epoch 20/20\n",
      "96/96 [==============================] - 9s 97ms/step - loss: 0.0335 - accuracy: 0.9895 - val_loss: 0.1609 - val_accuracy: 0.9538\n"
     ]
    },
    {
     "data": {
      "text/plain": [
       "<keras.callbacks.History at 0x20ad26c2b80>"
      ]
     },
     "execution_count": 11,
     "metadata": {},
     "output_type": "execute_result"
    }
   ],
   "source": [
    "model = Sequential()\n",
    "\n",
    "## First convolution Layer\n",
    "model.add(Convolution2D(filters=6, kernel_size=(3, 3), activation='relu', input_shape=(100,100,1)))\n",
    "model.add(AveragePooling2D())\n",
    "\n",
    "## Second Convolution layer\n",
    "model.add(Convolution2D(filters=16, kernel_size=(3, 3), activation='relu'))\n",
    "model.add(AveragePooling2D())\n",
    "\n",
    "## Flattening\n",
    "model.add(Flatten())\n",
    "\n",
    "## First Hidden Layer\n",
    "model.add(Dense(units=120, activation='relu'))\n",
    "\n",
    "## Second Hidden Layer\n",
    "model.add(Dense(units=84, activation='relu'))\n",
    "\n",
    "## Output Layer\n",
    "model.add(Dense(units=2, activation = 'sigmoid'))\n",
    "\n",
    "## Compiling the Model\n",
    "model.compile(loss='binary_crossentropy', optimizer='adam', metrics=['accuracy'])\n",
    "\n",
    "## Fitting the Model\n",
    "model.fit_generator(generator=x_train,steps_per_epoch=STEP_SIZE_TRAIN, validation_data = x_test, validation_steps=STEP_SIZE_TEST,epochs=20)"
   ]
  },
  {
   "cell_type": "markdown",
   "id": "dfa7bb5a",
   "metadata": {},
   "source": [
    "## Model Summary"
   ]
  },
  {
   "cell_type": "code",
   "execution_count": 92,
   "id": "b9654dc2",
   "metadata": {},
   "outputs": [
    {
     "name": "stdout",
     "output_type": "stream",
     "text": [
      "Model: \"sequential\"\n",
      "_________________________________________________________________\n",
      " Layer (type)                Output Shape              Param #   \n",
      "=================================================================\n",
      " conv2d (Conv2D)             (None, 98, 98, 6)         60        \n",
      "                                                                 \n",
      " average_pooling2d (AverageP  (None, 49, 49, 6)        0         \n",
      " ooling2D)                                                       \n",
      "                                                                 \n",
      " conv2d_1 (Conv2D)           (None, 47, 47, 16)        880       \n",
      "                                                                 \n",
      " average_pooling2d_1 (Averag  (None, 23, 23, 16)       0         \n",
      " ePooling2D)                                                     \n",
      "                                                                 \n",
      " flatten (Flatten)           (None, 8464)              0         \n",
      "                                                                 \n",
      " dense (Dense)               (None, 120)               1015800   \n",
      "                                                                 \n",
      " dense_1 (Dense)             (None, 84)                10164     \n",
      "                                                                 \n",
      " dense_2 (Dense)             (None, 2)                 170       \n",
      "                                                                 \n",
      "=================================================================\n",
      "Total params: 1,027,074\n",
      "Trainable params: 1,027,074\n",
      "Non-trainable params: 0\n",
      "_________________________________________________________________\n"
     ]
    }
   ],
   "source": [
    "model.summary()"
   ]
  },
  {
   "cell_type": "markdown",
   "id": "6cb0637a",
   "metadata": {},
   "source": [
    "## Saving the Model"
   ]
  },
  {
   "cell_type": "code",
   "execution_count": 12,
   "id": "4a657f7c",
   "metadata": {},
   "outputs": [],
   "source": [
    "model.save('fsd.h5')"
   ]
  },
  {
   "cell_type": "markdown",
   "id": "fc5cf648",
   "metadata": {},
   "source": [
    "## Testing the Model"
   ]
  },
  {
   "cell_type": "markdown",
   "id": "b37d5002",
   "metadata": {},
   "source": [
    "### 1.Testing Using a Image"
   ]
  },
  {
   "cell_type": "markdown",
   "id": "5179d606",
   "metadata": {},
   "source": [
    "#### 1st prediction"
   ]
  },
  {
   "cell_type": "code",
   "execution_count": 66,
   "id": "7165dce5",
   "metadata": {},
   "outputs": [],
   "source": [
    "import numpy as np\n",
    "from tensorflow.keras.models import load_model\n",
    "from tensorflow.keras.preprocessing import image"
   ]
  },
  {
   "cell_type": "code",
   "execution_count": 58,
   "id": "41d05ba0",
   "metadata": {},
   "outputs": [
    {
     "data": {
      "image/png": "[encoded data removed]",
      "text/plain": [
       "<PIL.Image.Image image mode=L size=100x100 at 0x20ADB3E0160>"
      ]
     },
     "execution_count": 58,
     "metadata": {},
     "output_type": "execute_result"
    }
   ],
   "source": [
    "img = image.load_img('./data/data_test/Face_images/32a9849f-9e54-41e6-91bc-dbc011a6b9c6.jpg',color_mode='grayscale',target_size=(100,100))\n",
    "img"
   ]
  },
  {
   "cell_type": "code",
   "execution_count": 20,
   "id": "ddc83615",
   "metadata": {},
   "outputs": [],
   "source": [
    "model = load_model('fsd.h5')"
   ]
  },
  {
   "cell_type": "code",
   "execution_count": 59,
   "id": "7bc09df3",
   "metadata": {},
   "outputs": [
    {
     "data": {
      "text/plain": [
       "array([[[ 0.],\n",
       "        [ 0.],\n",
       "        [ 0.],\n",
       "        ...,\n",
       "        [ 3.],\n",
       "        [ 4.],\n",
       "        [ 1.]],\n",
       "\n",
       "       [[ 0.],\n",
       "        [ 0.],\n",
       "        [ 0.],\n",
       "        ...,\n",
       "        [ 2.],\n",
       "        [ 0.],\n",
       "        [ 5.]],\n",
       "\n",
       "       [[ 0.],\n",
       "        [ 0.],\n",
       "        [ 0.],\n",
       "        ...,\n",
       "        [ 1.],\n",
       "        [ 8.],\n",
       "        [ 8.]],\n",
       "\n",
       "       ...,\n",
       "\n",
       "       [[11.],\n",
       "        [ 4.],\n",
       "        [ 1.],\n",
       "        ...,\n",
       "        [ 0.],\n",
       "        [ 0.],\n",
       "        [ 0.]],\n",
       "\n",
       "       [[20.],\n",
       "        [ 0.],\n",
       "        [16.],\n",
       "        ...,\n",
       "        [ 0.],\n",
       "        [ 0.],\n",
       "        [ 0.]],\n",
       "\n",
       "       [[ 0.],\n",
       "        [ 0.],\n",
       "        [ 0.],\n",
       "        ...,\n",
       "        [ 0.],\n",
       "        [ 0.],\n",
       "        [ 0.]]], dtype=float32)"
      ]
     },
     "execution_count": 59,
     "metadata": {},
     "output_type": "execute_result"
    }
   ],
   "source": [
    "x = image.img_to_array(img)\n",
    "x"
   ]
  },
  {
   "cell_type": "code",
   "execution_count": 60,
   "id": "409dca87",
   "metadata": {},
   "outputs": [
    {
     "data": {
      "text/plain": [
       "3"
      ]
     },
     "execution_count": 60,
     "metadata": {},
     "output_type": "execute_result"
    }
   ],
   "source": [
    "x.ndim"
   ]
  },
  {
   "cell_type": "code",
   "execution_count": 61,
   "id": "069e2e6a",
   "metadata": {},
   "outputs": [
    {
     "data": {
      "text/plain": [
       "array([[[[ 0.],\n",
       "         [ 0.],\n",
       "         [ 0.],\n",
       "         ...,\n",
       "         [ 3.],\n",
       "         [ 4.],\n",
       "         [ 1.]],\n",
       "\n",
       "        [[ 0.],\n",
       "         [ 0.],\n",
       "         [ 0.],\n",
       "         ...,\n",
       "         [ 2.],\n",
       "         [ 0.],\n",
       "         [ 5.]],\n",
       "\n",
       "        [[ 0.],\n",
       "         [ 0.],\n",
       "         [ 0.],\n",
       "         ...,\n",
       "         [ 1.],\n",
       "         [ 8.],\n",
       "         [ 8.]],\n",
       "\n",
       "        ...,\n",
       "\n",
       "        [[11.],\n",
       "         [ 4.],\n",
       "         [ 1.],\n",
       "         ...,\n",
       "         [ 0.],\n",
       "         [ 0.],\n",
       "         [ 0.]],\n",
       "\n",
       "        [[20.],\n",
       "         [ 0.],\n",
       "         [16.],\n",
       "         ...,\n",
       "         [ 0.],\n",
       "         [ 0.],\n",
       "         [ 0.]],\n",
       "\n",
       "        [[ 0.],\n",
       "         [ 0.],\n",
       "         [ 0.],\n",
       "         ...,\n",
       "         [ 0.],\n",
       "         [ 0.],\n",
       "         [ 0.]]]], dtype=float32)"
      ]
     },
     "execution_count": 61,
     "metadata": {},
     "output_type": "execute_result"
    }
   ],
   "source": [
    "x = np.expand_dims(x,axis=0)\n",
    "x"
   ]
  },
  {
   "cell_type": "code",
   "execution_count": 62,
   "id": "1a62db0a",
   "metadata": {},
   "outputs": [
    {
     "data": {
      "text/plain": [
       "4"
      ]
     },
     "execution_count": 62,
     "metadata": {},
     "output_type": "execute_result"
    }
   ],
   "source": [
    "x.ndim"
   ]
  },
  {
   "cell_type": "code",
   "execution_count": 63,
   "id": "004f955a",
   "metadata": {},
   "outputs": [
    {
     "data": {
      "text/plain": [
       "array([0], dtype=int64)"
      ]
     },
     "execution_count": 63,
     "metadata": {},
     "output_type": "execute_result"
    }
   ],
   "source": [
    "pred = np.argmax(model.predict(x),axis=1)\n",
    "pred"
   ]
  },
  {
   "cell_type": "code",
   "execution_count": 64,
   "id": "eccfa84d",
   "metadata": {},
   "outputs": [],
   "source": [
    "index = ['Face_Images', 'Mobile_Images']"
   ]
  },
  {
   "cell_type": "code",
   "execution_count": 65,
   "id": "58bb0a4d",
   "metadata": {},
   "outputs": [
    {
     "data": {
      "text/plain": [
       "'Face_Images'"
      ]
     },
     "execution_count": 65,
     "metadata": {},
     "output_type": "execute_result"
    }
   ],
   "source": [
    "index[pred[0]]"
   ]
  },
  {
   "cell_type": "markdown",
   "id": "efecb825",
   "metadata": {},
   "source": [
    "#### 2nd prediction"
   ]
  },
  {
   "cell_type": "code",
   "execution_count": 83,
   "id": "23016ccd",
   "metadata": {},
   "outputs": [
    {
     "data": {
      "image/png": "[encoded data removed]",
      "text/plain": [
       "<PIL.Image.Image image mode=L size=100x100 at 0x20ADCD16EB0>"
      ]
     },
     "execution_count": 83,
     "metadata": {},
     "output_type": "execute_result"
    }
   ],
   "source": [
    "img = image.load_img('./data/data_test/Mobile_images/5b1ef249-8183-4f4d-807e-73daa51a8434.jpg',color_mode='grayscale',target_size=(100,100))\n",
    "img"
   ]
  },
  {
   "cell_type": "code",
   "execution_count": 84,
   "id": "af11ce9b",
   "metadata": {},
   "outputs": [
    {
     "data": {
      "text/plain": [
       "array([[[255.],\n",
       "        [255.],\n",
       "        [255.],\n",
       "        ...,\n",
       "        [ 22.],\n",
       "        [ 17.],\n",
       "        [ 17.]],\n",
       "\n",
       "       [[255.],\n",
       "        [255.],\n",
       "        [255.],\n",
       "        ...,\n",
       "        [ 21.],\n",
       "        [ 21.],\n",
       "        [ 25.]],\n",
       "\n",
       "       [[255.],\n",
       "        [255.],\n",
       "        [255.],\n",
       "        ...,\n",
       "        [ 22.],\n",
       "        [ 24.],\n",
       "        [ 25.]],\n",
       "\n",
       "       ...,\n",
       "\n",
       "       [[ 50.],\n",
       "        [ 54.],\n",
       "        [ 45.],\n",
       "        ...,\n",
       "        [212.],\n",
       "        [206.],\n",
       "        [ 50.]],\n",
       "\n",
       "       [[ 49.],\n",
       "        [ 50.],\n",
       "        [ 47.],\n",
       "        ...,\n",
       "        [210.],\n",
       "        [208.],\n",
       "        [ 49.]],\n",
       "\n",
       "       [[ 45.],\n",
       "        [ 45.],\n",
       "        [ 45.],\n",
       "        ...,\n",
       "        [209.],\n",
       "        [209.],\n",
       "        [ 45.]]], dtype=float32)"
      ]
     },
     "execution_count": 84,
     "metadata": {},
     "output_type": "execute_result"
    }
   ],
   "source": [
    "x = image.img_to_array(img)\n",
    "x"
   ]
  },
  {
   "cell_type": "code",
   "execution_count": 85,
   "id": "14d59173",
   "metadata": {},
   "outputs": [
    {
     "data": {
      "text/plain": [
       "3"
      ]
     },
     "execution_count": 85,
     "metadata": {},
     "output_type": "execute_result"
    }
   ],
   "source": [
    "x.ndim"
   ]
  },
  {
   "cell_type": "code",
   "execution_count": 86,
   "id": "9758288e",
   "metadata": {},
   "outputs": [
    {
     "data": {
      "text/plain": [
       "array([[[[255.],\n",
       "         [255.],\n",
       "         [255.],\n",
       "         ...,\n",
       "         [ 22.],\n",
       "         [ 17.],\n",
       "         [ 17.]],\n",
       "\n",
       "        [[255.],\n",
       "         [255.],\n",
       "         [255.],\n",
       "         ...,\n",
       "         [ 21.],\n",
       "         [ 21.],\n",
       "         [ 25.]],\n",
       "\n",
       "        [[255.],\n",
       "         [255.],\n",
       "         [255.],\n",
       "         ...,\n",
       "         [ 22.],\n",
       "         [ 24.],\n",
       "         [ 25.]],\n",
       "\n",
       "        ...,\n",
       "\n",
       "        [[ 50.],\n",
       "         [ 54.],\n",
       "         [ 45.],\n",
       "         ...,\n",
       "         [212.],\n",
       "         [206.],\n",
       "         [ 50.]],\n",
       "\n",
       "        [[ 49.],\n",
       "         [ 50.],\n",
       "         [ 47.],\n",
       "         ...,\n",
       "         [210.],\n",
       "         [208.],\n",
       "         [ 49.]],\n",
       "\n",
       "        [[ 45.],\n",
       "         [ 45.],\n",
       "         [ 45.],\n",
       "         ...,\n",
       "         [209.],\n",
       "         [209.],\n",
       "         [ 45.]]]], dtype=float32)"
      ]
     },
     "execution_count": 86,
     "metadata": {},
     "output_type": "execute_result"
    }
   ],
   "source": [
    "x = np.expand_dims(x,axis=0)\n",
    "x"
   ]
  },
  {
   "cell_type": "code",
   "execution_count": 87,
   "id": "4150c99f",
   "metadata": {},
   "outputs": [
    {
     "data": {
      "text/plain": [
       "4"
      ]
     },
     "execution_count": 87,
     "metadata": {},
     "output_type": "execute_result"
    }
   ],
   "source": [
    "x.ndim"
   ]
  },
  {
   "cell_type": "code",
   "execution_count": 88,
   "id": "77149c06",
   "metadata": {},
   "outputs": [
    {
     "data": {
      "text/plain": [
       "array([1], dtype=int64)"
      ]
     },
     "execution_count": 88,
     "metadata": {},
     "output_type": "execute_result"
    }
   ],
   "source": [
    "pred = np.argmax(model.predict(x),axis=1)\n",
    "pred"
   ]
  },
  {
   "cell_type": "code",
   "execution_count": 89,
   "id": "149bcb4d",
   "metadata": {},
   "outputs": [],
   "source": [
    "index = ['Face_Images', 'Mobile_Images']"
   ]
  },
  {
   "cell_type": "code",
   "execution_count": 90,
   "id": "4805ae49",
   "metadata": {},
   "outputs": [
    {
     "data": {
      "text/plain": [
       "'Mobile_Images'"
      ]
     },
     "execution_count": 90,
     "metadata": {},
     "output_type": "execute_result"
    }
   ],
   "source": [
    "index[pred[0]]"
   ]
  },
  {
   "cell_type": "markdown",
   "id": "e8b2c0e6",
   "metadata": {},
   "source": [
    "### 2. Testing using Webcam"
   ]
  },
  {
   "cell_type": "code",
   "execution_count": 93,
   "id": "3dae50b3",
   "metadata": {},
   "outputs": [],
   "source": [
    "import cv2\n",
    "import numpy as np\n",
    "from tensorflow.keras.models import load_model\n",
    "from tensorflow.keras.preprocessing import image\n",
    "model = load_model('fsd.h5')\n",
    "video = cv2.VideoCapture(0)\n",
    "index = ['Face_Images', 'Mobile_Images']\n",
    "while 1:\n",
    "    succes, frame = video.read()\n",
    "    cv2.imwrite('image.jpg',frame)\n",
    "    img = image.load_img('image.jpg', color_mode='grayscale', target_size=(100,100))\n",
    "    x = image.img_to_array(img)\n",
    "    x = np.expand_dims(x,axis=0)\n",
    "    pred = np.argmax(model.predict(x),axis=1)\n",
    "    y = pred[0]\n",
    "    cv2.putText(frame, 'The Image is: ' + str(index[y]), (100,100), cv2.FONT_HERSHEY_SIMPLEX,1,(0,0,0),4) \n",
    "    ## img,text,startPT,fontstyle,scale(size),color,width\n",
    "    cv2.imshow('image',frame)\n",
    "    if cv2.waitKey(1) & 0xFF == ord('q'):\n",
    "        break\n",
    "video.release()\n",
    "cv2.destroyAllWindows()"
   ]
  },
  {
   "cell_type": "markdown",
   "id": "785c6e89",
   "metadata": {},
   "source": [
    "## Output Results"
   ]
  },
  {
   "cell_type": "markdown",
   "id": "cb4380d8",
   "metadata": {},
   "source": [
    "<img src=\"./Resources/img1.png\">"
   ]
  },
  {
   "cell_type": "markdown",
   "id": "d63b8218",
   "metadata": {},
   "source": [
    "<img src=\"./Resources/img2.png\">"
   ]
  },
  {
   "cell_type": "markdown",
   "id": "0790ccce",
   "metadata": {},
   "source": [
    "<img src=\"./Resources/img3.png\">"
   ]
  },
  {
   "cell_type": "markdown",
   "id": "34d5e4f7",
   "metadata": {},
   "source": [
    "<img src=\"./Resources/img4.png\">"
   ]
  }
 ],
 "metadata": {
  "kernelspec": {
   "display_name": "Python 3 (ipykernel)",
   "language": "python",
   "name": "python3"
  },
  "language_info": {
   "codemirror_mode": {
    "name": "ipython",
    "version": 3
   },
   "file_extension": ".py",
   "mimetype": "text/x-python",
   "name": "python",
   "nbconvert_exporter": "python",
   "pygments_lexer": "ipython3",
   "version": "3.9.7"
  }
 },
 "nbformat": 4,
 "nbformat_minor": 5
}
