{
 "cells": [
  {
   "cell_type": "markdown",
   "id": "4a63bf67",
   "metadata": {},
   "source": [
    "# Testing CNN"
   ]
  },
  {
   "cell_type": "code",
   "execution_count": 6,
   "id": "ea12d590",
   "metadata": {},
   "outputs": [],
   "source": [
    "import cv2\n",
    "import numpy as np\n",
    "from tensorflow.keras.models import load_model\n",
    "from tensorflow.keras.preprocessing import image\n",
    "\n",
    "trained_face_data = cv2.CascadeClassifier('haarcascade_frontalface_default.xml')\n",
    "model = load_model('fsd.h5')\n",
    "video = cv2.VideoCapture(0)\n",
    "index = ['Face_Images', 'Mobile_Images']\n",
    "\n",
    "\n",
    "while 1:\n",
    "    succes, frame = video.read()\n",
    "    grayscaled_img = cv2.cvtColor(frame, cv2.COLOR_BGR2GRAY)\n",
    "    face_coordinates = trained_face_data.detectMultiScale(grayscaled_img)\n",
    "    cv2.imwrite('image.jpg',frame)\n",
    "    img = image.load_img('image.jpg', color_mode='grayscale', target_size=(100,100))\n",
    "    x = image.img_to_array(img)\n",
    "    x = np.expand_dims(x,axis=0)\n",
    "    pred = np.argmax(model.predict(x),axis=1)\n",
    "    z = pred[0]\n",
    "    for (x, y, w, h) in face_coordinates:\n",
    "        cv2.rectangle(frame, (x, y), (x+w, y+h), (0, 255, 0), 2)\n",
    "        cv2.putText(frame,str(index[z]), (x,y), cv2.FONT_HERSHEY_SIMPLEX,0.7,(0,255,0),2)\n",
    "        ## img,text,startPT,fontstyle,scale(size),color,width\n",
    "    cv2.imshow('image',frame)\n",
    "    if cv2.waitKey(1) & 0xFF == ord('q'):\n",
    "        break\n",
    "video.release()\n",
    "cv2.destroyAllWindows()"
   ]
  }
 ],
 "metadata": {
  "kernelspec": {
   "display_name": "Python 3 (ipykernel)",
   "language": "python",
   "name": "python3"
  },
  "language_info": {
   "codemirror_mode": {
    "name": "ipython",
    "version": 3
   },
   "file_extension": ".py",
   "mimetype": "text/x-python",
   "name": "python",
   "nbconvert_exporter": "python",
   "pygments_lexer": "ipython3",
   "version": "3.9.7"
  }
 },
 "nbformat": 4,
 "nbformat_minor": 5
}
